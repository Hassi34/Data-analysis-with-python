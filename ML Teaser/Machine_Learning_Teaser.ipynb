{
 "cells": [
  {
   "cell_type": "code",
   "execution_count": 11,
   "metadata": {
    "id": "NINRd5A5kvzC"
   },
   "outputs": [],
   "source": [
    "import seaborn as sns\n",
    "sns.set()"
   ]
  },
  {
   "cell_type": "markdown",
   "metadata": {
    "id": "98NQQehTkvzF"
   },
   "source": [
    "<!-- requirement: images/intro_ex.png -->\n",
    "#  What is Machine Learning?"
   ]
  },
  {
   "cell_type": "markdown",
   "metadata": {
    "id": "LvM-pOAHkvzF"
   },
   "source": [
    "Machine learning is a broad collection of tools used for finding patterns in data.  Many machine learning tools are used to make predictions about future data.  \n",
    "\n",
    "For example, we can use ML algorithms to approximate an unknown function or to group data into clusters.\n",
    "\n",
    "![ex](images/intro_ex.png)\n",
    "\n",
    "Machine Learning is an area of active research and development and has produced many impressive applications:\n",
    "\n",
    "* Voice and image recognition\n",
    "* Translation services\n",
    "* Financial models\n",
    "* Spam detection\n",
    "* Self-driving cars\n",
    "\n",
    "In this notebook, we are going to give you a small view into the world of machine learning by examining a typical machine learning task, that of *predicting* a value, given data that we have to build a model.  "
   ]
  },
  {
   "cell_type": "markdown",
   "metadata": {
    "id": "pxIomL9CkvzG"
   },
   "source": [
    "# Our goal"
   ]
  },
  {
   "cell_type": "markdown",
   "metadata": {
    "id": "QTRYg-JtkvzG"
   },
   "source": [
    "While this notebook is **not** designed to give you the details of the mathematics behind machine learning, we will consider a real use-case for which machine learning tools can be applied.  \n",
    "\n",
    "We consider the College Scorecard data you have already seen in the previous notebooks.  Recall that this data has information about university tuition fees for universities in each state, as well as further descriptive data about those universities as well as state income information, etc.  \n",
    "\n",
    "What we want to do is to find a way to use our data to make a prediction about the average tuition for a university in each state, given the year (and state).  In particular, let's concentrate on public universities that award undergraduate degrees, and see if we can find a way to predict the (average) tuition for such a university in each state.  \n",
    "\n",
    "In case you haven't downloaded this data, the code in the next cell will retrieve it for you. "
   ]
  },
  {
   "cell_type": "code",
   "execution_count": 82,
   "metadata": {
    "colab": {
     "base_uri": "https://localhost:8080/"
    },
    "id": "fG5Q2CBbkvzH",
    "outputId": "b22d6b3a-36f8-45f5-fc1e-88d4d44292f3"
   },
   "outputs": [
    {
     "data": {
      "text/plain": [
       "'\\n%%bash\\nwget https://s3.amazonaws.com/dataincubator-course/college-scorecard/CollegeScorecard_Data.zip -nc -q\\nunzip -u CollegeScorecard_Data.zip\\n'"
      ]
     },
     "execution_count": 82,
     "metadata": {},
     "output_type": "execute_result"
    }
   ],
   "source": [
    "'''\n",
    "%%bash\n",
    "wget https://s3.amazonaws.com/dataincubator-course/college-scorecard/CollegeScorecard_Data.zip -nc -q\n",
    "unzip -u CollegeScorecard_Data.zip\n",
    "'''"
   ]
  },
  {
   "cell_type": "markdown",
   "metadata": {
    "id": "M3v0Xg1-kvzH"
   },
   "source": [
    "We begin the process by first using our pandas knowledge to compute the average tuition score for each state.  Recall that we are only interested in schools that reward undergraduate degrees and are public institutions.  This means we want to limit our data to `CONTROL == 1` and `PREDDEG == 3` in the Scorecard data.  \n",
    "\n",
    "Similar to the analysis performed in the `EDT_Pandas_Data_Aggregation` notebook, let's first compute average tuition fees for each state for each year and save this information in a DataFrame.  \n",
    "\n",
    "To facilitate these calculations, we will write a function which will take a file name as input and compute these mean tuition values.  As in the previous notebook, we'll iterate over all of the annual College Scorecard data that we have.  We use the `glob` library we described in the previous notebook to iterate over the Scorecard files.  "
   ]
  },
  {
   "cell_type": "code",
   "execution_count": 13,
   "metadata": {
    "id": "u5JgNV0zkvzH"
   },
   "outputs": [],
   "source": [
    "import pandas as pd\n",
    "import numpy as np\n",
    "import re"
   ]
  },
  {
   "cell_type": "code",
   "execution_count": 44,
   "metadata": {
    "id": "U97YkD0AkvzI"
   },
   "outputs": [],
   "source": [
    "def avg_tuition_pub(file_path, verbose=False):\n",
    "    \"\"\"\n",
    "    Compute mean tuition scores for each state, \n",
    "    given a file containg tuitions for a given year.\n",
    "    \"\"\"\n",
    "    if verbose:\n",
    "        print('Processing file: ' + file_path)\n",
    "        \n",
    "    df = pd.read_csv(file_path, low_memory=False)\n",
    "    tuition_pub = (df.query('CONTROL == 1 and PREDDEG ==3')\n",
    "                    .groupby('STABBR')[['COSTT4_A']].mean())\n",
    "\n",
    "    year = re.search(r'MERGED(\\d+)_', file_path).group(1)\n",
    "    tuition_pub['year'] = int(year)\n",
    "\n",
    "    return tuition_pub"
   ]
  },
  {
   "cell_type": "code",
   "execution_count": 45,
   "metadata": {
    "id": "oNYcYXohkvzI"
   },
   "outputs": [],
   "source": [
    "def create_pivot(df):\n",
    "    \"\"\"Create a pivot table of results.\"\"\"\n",
    "    result = (df.pivot(index=None, columns='year', values='COSTT4_A')\n",
    "                 .applymap(lambda x: round(x,2)))\n",
    "              \n",
    "    return result"
   ]
  },
  {
   "cell_type": "code",
   "execution_count": 46,
   "metadata": {
    "id": "AS2TM_vWkvzI"
   },
   "outputs": [
    {
     "name": "stdout",
     "output_type": "stream",
     "text": [
      "Processing file: CollegeScorecard_Data\\MERGED2000_01_PP.zip\n",
      "Processing file: CollegeScorecard_Data\\MERGED2001_02_PP.zip\n",
      "Processing file: CollegeScorecard_Data\\MERGED2002_03_PP.zip\n",
      "Processing file: CollegeScorecard_Data\\MERGED2003_04_PP.zip\n",
      "Processing file: CollegeScorecard_Data\\MERGED2004_05_PP.zip\n",
      "Processing file: CollegeScorecard_Data\\MERGED2005_06_PP.zip\n",
      "Processing file: CollegeScorecard_Data\\MERGED2006_07_PP.zip\n",
      "Processing file: CollegeScorecard_Data\\MERGED2007_08_PP.zip\n",
      "Processing file: CollegeScorecard_Data\\MERGED2008_09_PP.zip\n",
      "Processing file: CollegeScorecard_Data\\MERGED2009_10_PP.zip\n",
      "Processing file: CollegeScorecard_Data\\MERGED2010_11_PP.zip\n",
      "Processing file: CollegeScorecard_Data\\MERGED2011_12_PP.zip\n",
      "Processing file: CollegeScorecard_Data\\MERGED2012_13_PP.zip\n",
      "Processing file: CollegeScorecard_Data\\MERGED2013_14_PP.zip\n",
      "Processing file: CollegeScorecard_Data\\MERGED2014_15_PP.zip\n",
      "Processing file: CollegeScorecard_Data\\MERGED2015_16_PP.zip\n",
      "Processing file: CollegeScorecard_Data\\MERGED2016_17_PP.zip\n",
      "Processing file: CollegeScorecard_Data\\MERGED2017_18_PP.zip\n"
     ]
    }
   ],
   "source": [
    "import glob\n",
    "\n",
    "files = glob.glob('CollegeScorecard_Data/MERGED2*.zip')\n",
    "ave_tuitions = (pd.concat([avg_tuition_pub(f, verbose=True) for f in files])\n",
    "               .dropna().pipe(create_pivot))"
   ]
  },
  {
   "cell_type": "markdown",
   "metadata": {
    "id": "j2X0CSQ3kvzJ"
   },
   "source": [
    "Eliminating rows with null values gives data for only nine years.  This may not be enough to get meaningful results, but let's see what we can come up with..."
   ]
  },
  {
   "cell_type": "markdown",
   "metadata": {
    "id": "6ajnz4fGkvzJ"
   },
   "source": [
    "## A single state"
   ]
  },
  {
   "cell_type": "markdown",
   "metadata": {
    "id": "FPbmk1EdkvzK"
   },
   "source": [
    "Let's focus on one state first, namely Alaska (abbreviation `AK`). If we can do our analysis for one state, we should be able to use our pandas knowledge and easily repeat it for each state if we do this in the right way.   "
   ]
  },
  {
   "cell_type": "code",
   "execution_count": 59,
   "metadata": {
    "id": "LeCv6x1_kvzK"
   },
   "outputs": [
    {
     "data": {
      "text/plain": [
       "array([2009, 2010, 2011, 2012, 2013, 2014, 2015, 2016, 2017], dtype=int64)"
      ]
     },
     "execution_count": 59,
     "metadata": {},
     "output_type": "execute_result"
    }
   ],
   "source": [
    "#AK_tuition1 = ave_tuitions[ave_tuitions.index == 'AK'].values\n",
    "AK_tuition = ave_tuitions.loc['AK'].values\n",
    "years = ave_tuitions.columns.values\n",
    "years"
   ]
  },
  {
   "cell_type": "code",
   "execution_count": 60,
   "metadata": {},
   "outputs": [
    {
     "data": {
      "text/plain": [
       "array([[ True,  True,  True,  True,  True,  True,  True,  True,  True]])"
      ]
     },
     "execution_count": 60,
     "metadata": {},
     "output_type": "execute_result"
    }
   ],
   "source": [
    "AK_tuition == AK_tuition1"
   ]
  },
  {
   "cell_type": "code",
   "execution_count": 61,
   "metadata": {},
   "outputs": [
    {
     "data": {
      "text/plain": [
       "array([13532.67, 14007.67, 14674.  , 14999.5 , 14874.67, 14475.  ,\n",
       "       16325.  , 17536.5 , 18490.  ])"
      ]
     },
     "execution_count": 61,
     "metadata": {},
     "output_type": "execute_result"
    }
   ],
   "source": [
    "AK_tuition"
   ]
  },
  {
   "cell_type": "markdown",
   "metadata": {
    "id": "z5S101UDkvzK"
   },
   "source": [
    "To do our prediction task, we are going to build a **model**, in this case a mathematical function that will take one value (the year) as input and produce a single value (the average state tuition for that year) as output.  In particular, we are going to assume that the tuition is a **linear function** of the year.  We can state this as the following:\n",
    "\n",
    "$$ \\textrm{tuition} = m \\times \\textrm{year} + b$$\n",
    "\n",
    "for some (yet to be determined) values of $m$ and $b$, the *coefficients* of our model.\n",
    "\n",
    "To find the values of $m$ and $b$, we are going to perform [simple linear regression](https://en.wikipedia.org/wiki/Simple_linear_regression).  We will not discuss the exact mathematical details here, but suffice it to say that this is well-defined procedure that, given the values for the \"year\" and \"tuition\", finds the values of $m$ and $b$ that \"best fit\" those (year, tuition) pairs.  "
   ]
  },
  {
   "cell_type": "code",
   "execution_count": 64,
   "metadata": {
    "id": "uQzDrp6_kvzK"
   },
   "outputs": [],
   "source": [
    "def linear_regression(x, y):\n",
    "    \"\"\"\n",
    "    Simple linear regression (i.e. a single variable independent variable).  \n",
    "    \n",
    "    Finds coefficients m and b to fit a line y = m*x + b to the input data.\n",
    "    Assumes the input is in the form of numpy arrays.\n",
    "    \"\"\"\n",
    "    m = ((x-x.mean())*(y-y.mean())).sum()/((x-x.mean())**2).sum()\n",
    "    b = y.mean() - m*x.mean()\n",
    "    return (m, b)"
   ]
  },
  {
   "cell_type": "code",
   "execution_count": 65,
   "metadata": {
    "id": "9Vgxsz1rkvzL"
   },
   "outputs": [
    {
     "name": "stdout",
     "output_type": "stream",
     "text": [
      "(553.2218333333333, -1098200.5493888888)\n"
     ]
    }
   ],
   "source": [
    "AK_coeff = linear_regression(years, AK_tuition)\n",
    "print(AK_coeff)"
   ]
  },
  {
   "cell_type": "markdown",
   "metadata": {
    "id": "R3xp882zkvzL"
   },
   "source": [
    "We can also build a helper function that will give us predictions for a year or collection of years, where the input is in the form of a NumPy array.  "
   ]
  },
  {
   "cell_type": "code",
   "execution_count": 66,
   "metadata": {
    "id": "lXV7FEjSkvzL"
   },
   "outputs": [],
   "source": [
    "def predict(x, coeff):\n",
    "    return np.round(x*coeff[0] + coeff[1], 2)"
   ]
  },
  {
   "cell_type": "markdown",
   "metadata": {
    "id": "t6F5qHsgkvzL"
   },
   "source": [
    "And try it out on our data..."
   ]
  },
  {
   "cell_type": "code",
   "execution_count": 67,
   "metadata": {
    "id": "oJUecKk8kvzL"
   },
   "outputs": [
    {
     "data": {
      "text/plain": [
       "array([13222.11, 13775.34, 14328.56, 14881.78, 15435.  , 15988.22,\n",
       "       16541.44, 17094.67, 17647.89])"
      ]
     },
     "execution_count": 67,
     "metadata": {},
     "output_type": "execute_result"
    }
   ],
   "source": [
    "predict(years, AK_coeff)"
   ]
  },
  {
   "cell_type": "markdown",
   "metadata": {
    "id": "4X6LlI1lkvzM"
   },
   "source": [
    "How do these predictions compare to the real values?  We can use matplotlib to visually compare the real values and the predictions on the same graph."
   ]
  },
  {
   "cell_type": "code",
   "execution_count": 68,
   "metadata": {
    "id": "HoBEVJFSkvzM"
   },
   "outputs": [
    {
     "data": {
      "image/png": "[encoded data removed]",
      "text/plain": [
       "<Figure size 432x288 with 1 Axes>"
      ]
     },
     "metadata": {},
     "output_type": "display_data"
    }
   ],
   "source": [
    "import matplotlib.pyplot as plt\n",
    "\n",
    "plt.plot(years, AK_tuition, label='AK true values')\n",
    "plt.plot(years, predict(years, AK_coeff), label='AK predictions')\n",
    "plt.title('True tuition vs. predictions (AK)')\n",
    "plt.ylabel('Tuition (in US dollars)')\n",
    "plt.legend();"
   ]
  },
  {
   "cell_type": "markdown",
   "metadata": {
    "id": "l-c1vKE3kvzM"
   },
   "source": [
    "We can get predictions for 2018, or indeed several years, by supplying a NumPy array to our `predict` function."
   ]
  },
  {
   "cell_type": "code",
   "execution_count": 69,
   "metadata": {
    "id": "dQZiCUJckvzM"
   },
   "outputs": [
    {
     "data": {
      "text/plain": [
       "array([18201.11, 18754.33, 19307.55])"
      ]
     },
     "execution_count": 69,
     "metadata": {},
     "output_type": "execute_result"
    }
   ],
   "source": [
    "predict(np.array([2018, 2019, 2020]), AK_coeff)"
   ]
  },
  {
   "cell_type": "markdown",
   "metadata": {
    "id": "8_4DLpRjkvzM"
   },
   "source": [
    "---\n",
    "**Group Discussion**  \n",
    "* What assumptions are we making in the model that we are building?  \n",
    "* Why might the model for Alaska **not** be a suitable model for California, Florida, or other states?\n",
    "---"
   ]
  },
  {
   "cell_type": "markdown",
   "metadata": {
    "id": "OfWb96rSkvzM"
   },
   "source": [
    "Using our functions we have defined, we can build similar models for other states by repeating our calculations.  Trying Tennessee (TN), we seem to get better results than for Alaska.  "
   ]
  },
  {
   "cell_type": "code",
   "execution_count": 70,
   "metadata": {
    "id": "RQKa2BsrkvzN"
   },
   "outputs": [
    {
     "data": {
      "image/png": "[encoded data removed]",
      "text/plain": [
       "<Figure size 432x288 with 1 Axes>"
      ]
     },
     "metadata": {},
     "output_type": "display_data"
    }
   ],
   "source": [
    "state = 'TN'\n",
    "\n",
    "tuition = ave_tuitions.loc[state]\n",
    "coef = linear_regression(years, tuition)\n",
    "\n",
    "plt.plot(years, tuition, label=f'{state} true values')\n",
    "plt.plot(years, predict(years, coef), label=f'{state} predictions')\n",
    "plt.title(f'True tuition vs. predictions ({state})')\n",
    "plt.ylabel('Tuition (in US dollars)')\n",
    "plt.legend();"
   ]
  },
  {
   "cell_type": "markdown",
   "metadata": {
    "id": "KCmCrx0ikvzN"
   },
   "source": [
    "### Exercise\n",
    "1. Change the value of `state` to get plots for other states (or territories, e.g. `GU` stands for \"Guam\" in the indices of `ave_tuition`)."
   ]
  },
  {
   "cell_type": "markdown",
   "metadata": {
    "id": "VAJ1fRBIkvzN"
   },
   "source": [
    "## Repeating our calculation for each state"
   ]
  },
  {
   "cell_type": "markdown",
   "metadata": {
    "id": "TU6zKfq7kvzN"
   },
   "source": [
    "We want to repeat our calculation using the `linear_regression` method to get model coefficients (the $m$ and $b$ values) for each state.  Normally this is a situation where we would consider using the pandas `apply` method to apply a function `f` to each row of our `ave_tuitions` DataFrame, doing something like the following:\n",
    "```Python\n",
    "ave_tuitions.apply(f, axis=1)\n",
    "```\n",
    "How do we do this here?  \n",
    "\n",
    "When we use `apply` on the rows, the argument that the function `f` receives is equal to what `loc` returns on a single row of the DataFrame.  Let's examine this value and see what we get for a single row.  "
   ]
  },
  {
   "cell_type": "code",
   "execution_count": 71,
   "metadata": {
    "id": "p1eQ2QPkkvzN"
   },
   "outputs": [
    {
     "name": "stdout",
     "output_type": "stream",
     "text": [
      "year\n",
      "2009    13532.67\n",
      "2010    14007.67\n",
      "2011    14674.00\n",
      "2012    14999.50\n",
      "2013    14874.67\n",
      "2014    14475.00\n",
      "2015    16325.00\n",
      "2016    17536.50\n",
      "2017    18490.00\n",
      "Name: AK, dtype: float64\n",
      "\n",
      "<class 'pandas.core.series.Series'>\n"
     ]
    }
   ],
   "source": [
    "print(ave_tuitions.loc['AK'])\n",
    "print()\n",
    "print(type(ave_tuitions.loc['AK']))"
   ]
  },
  {
   "cell_type": "markdown",
   "metadata": {
    "id": "41Rd4K_PkvzN"
   },
   "source": [
    "The value returned by `loc` is a pandas `Series` object.  A Series has two components, the `index` of the Series and the `values` of the Series.  We want to use *both* of these components in our `linear_regression` method, namely setting `x` to equal the index (the year), and `y` equal to the values of the Series itself (the average tuition of the state for each year).  \n",
    "\n",
    "With a little judicious sleight-of-hand, we can use a `lambda` function together with `linear_regression` to compute the model coefficients for each state.   "
   ]
  },
  {
   "cell_type": "code",
   "execution_count": 72,
   "metadata": {
    "id": "VpfQG_HukvzN"
   },
   "outputs": [
    {
     "data": {
      "text/plain": [
       "STABBR\n",
       "AK    (553.2218333333333, -1098200.5493888888)\n",
       "AL     (931.1716666666667, -1855510.523888889)\n",
       "AR    (524.4768333333333, -1038070.1888333332)\n",
       "AZ    (697.2896666666667, -1382035.3423333333)\n",
       "CA     (617.0616666666667, -1220243.973888889)\n",
       "CO             (727.6305, -1444412.5120555556)\n",
       "CT    (578.6261666666668, -1146164.2568333338)\n",
       "dtype: object"
      ]
     },
     "execution_count": 72,
     "metadata": {},
     "output_type": "execute_result"
    }
   ],
   "source": [
    "ave_tuitions.apply(lambda row: linear_regression(row.index.values, row.values), \n",
    "                   axis=1)['AK':'CT']"
   ]
  },
  {
   "cell_type": "markdown",
   "metadata": {
    "id": "gU7iGtstkvzO"
   },
   "source": [
    "Finally, we can save the collection of coefficients for each state by creating a new variable or slicing in a new column to our `ave_tuitions` DataFrame if we wanted to keep all the information in one place.  Let's save them as a new variable, a pandas Series in this case."
   ]
  },
  {
   "cell_type": "code",
   "execution_count": 73,
   "metadata": {
    "id": "ZaqvLgOSkvzO"
   },
   "outputs": [],
   "source": [
    "coefficients = ave_tuitions.apply(lambda row: linear_regression(row.index.values, row.values), \n",
    "                             axis=1)"
   ]
  },
  {
   "cell_type": "code",
   "execution_count": 74,
   "metadata": {
    "id": "TyDFnY7FkvzO"
   },
   "outputs": [
    {
     "data": {
      "text/plain": [
       "STABBR\n",
       "AK    (553.2218333333333, -1098200.5493888888)\n",
       "AL     (931.1716666666667, -1855510.523888889)\n",
       "AR    (524.4768333333333, -1038070.1888333332)\n",
       "AZ    (697.2896666666667, -1382035.3423333333)\n",
       "CA     (617.0616666666667, -1220243.973888889)\n",
       "CO             (727.6305, -1444412.5120555556)\n",
       "CT    (578.6261666666668, -1146164.2568333338)\n",
       "DC               (1432.9, -2865342.2555555557)\n",
       "DE    (658.5333333333333, -1304521.5999999999)\n",
       "FL     (454.6003333333334, -897047.2632222223)\n",
       "dtype: object"
      ]
     },
     "execution_count": 74,
     "metadata": {},
     "output_type": "execute_result"
    }
   ],
   "source": [
    "coefficients.head(10)"
   ]
  },
  {
   "cell_type": "markdown",
   "metadata": {
    "id": "gE_KLHLnkvzO"
   },
   "source": [
    "Using `apply` to the `coefficients` Series (with the help of a `lambda` function), we can get predictions for 2018 for each state.  "
   ]
  },
  {
   "cell_type": "code",
   "execution_count": 75,
   "metadata": {
    "id": "0pRiX4x-kvzO"
   },
   "outputs": [
    {
     "data": {
      "text/plain": [
       "STABBR\n",
       "AK    18201.11\n",
       "AL    23593.90\n",
       "AR    20324.06\n",
       "AZ    25095.21\n",
       "CA    24986.47\n",
       "dtype: float64"
      ]
     },
     "execution_count": 75,
     "metadata": {},
     "output_type": "execute_result"
    }
   ],
   "source": [
    "predictions_2018 = coefficients.apply(lambda c: predict(np.array([2018]), c)[0])\n",
    "predictions_2018.head(5)"
   ]
  },
  {
   "cell_type": "markdown",
   "metadata": {
    "id": "OlJnWk0vkvzO"
   },
   "source": [
    "How do these compare to the real values for 2018?  Well, we actually have the data available for 2018, and can compute the average tuition for public universities that award undergraduate degrees to compare to our predictions.  We need to download that data first (this data wasn't included the previously downloaded Scorecard information).  "
   ]
  },
  {
   "cell_type": "code",
   "execution_count": 78,
   "metadata": {
    "id": "s3mSUzgDkvzP"
   },
   "outputs": [
    {
     "data": {
      "text/plain": [
       "'\\n%%bash\\nwget https://s3.amazonaws.com/dataincubator-course/college-scorecard/test/MERGED2018_19_PP.zip -nc -q -P CollegeScorecard_Data\\n'"
      ]
     },
     "execution_count": 78,
     "metadata": {},
     "output_type": "execute_result"
    }
   ],
   "source": [
    "'''\n",
    "%%bash\n",
    "wget https://s3.amazonaws.com/dataincubator-course/college-scorecard/test/MERGED2018_19_PP.zip -nc -q -P CollegeScorecard_Data\n",
    "'''"
   ]
  },
  {
   "cell_type": "code",
   "execution_count": 77,
   "metadata": {
    "id": "wJjsGzcfkvzP"
   },
   "outputs": [
    {
     "name": "stdout",
     "output_type": "stream",
     "text": [
      "Processing file: CollegeScorecard_Data/MERGED2018_19_PP.zip\n"
     ]
    }
   ],
   "source": [
    "tuitions_2018 = (avg_tuition_pub('CollegeScorecard_Data/MERGED2018_19_PP.zip', verbose=True)\n",
    "                   .pipe(create_pivot))"
   ]
  },
  {
   "cell_type": "code",
   "execution_count": 79,
   "metadata": {
    "id": "zzRE7BXnkvzP"
   },
   "outputs": [
    {
     "name": "stdout",
     "output_type": "stream",
     "text": [
      "Predictions for 2018: \n",
      " STABBR\n",
      "AK    18201.11\n",
      "AL    23593.90\n",
      "AR    20324.06\n",
      "AZ    25095.21\n",
      "CA    24986.47\n",
      "dtype: float64\n",
      "\n",
      "Real values for 2018: \n",
      " year        2018\n",
      "STABBR          \n",
      "AK      19226.00\n",
      "AL      22586.92\n",
      "AR      20230.11\n",
      "AZ      25023.43\n",
      "CA      24831.25\n"
     ]
    }
   ],
   "source": [
    "print('Predictions for 2018: \\n', predictions_2018.head())\n",
    "print('\\nReal values for 2018: \\n', tuitions_2018.head())"
   ]
  },
  {
   "cell_type": "markdown",
   "metadata": {
    "id": "PYOnfcoqkvzP"
   },
   "source": [
    "We could further examine the predictions and real (average) tuition values to see how close they are, but this is where we are going to leave this machine learning \"taster\".  "
   ]
  },
  {
   "cell_type": "markdown",
   "metadata": {
    "id": "jJj83sVLkvzP"
   },
   "source": [
    "*Copyright &copy; 2021 Hasnain*"
   ]
  }
 ],
 "metadata": {
  "colab": {
   "name": "2021-06-03-Machine_Learning_Teaser.ipynb",
   "provenance": []
  },
  "hide_input": false,
  "kernelspec": {
   "display_name": "Python 3",
   "language": "python",
   "name": "python3"
  },
  "language_info": {
   "codemirror_mode": {
    "name": "ipython",
    "version": 3
   },
   "file_extension": ".py",
   "mimetype": "text/x-python",
   "name": "python",
   "nbconvert_exporter": "python",
   "pygments_lexer": "ipython3",
   "version": "3.7.6"
  },
  "nbclean": true
 },
 "nbformat": 4,
 "nbformat_minor": 1
}
